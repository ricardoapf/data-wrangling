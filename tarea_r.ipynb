{
  "nbformat": 4,
  "nbformat_minor": 0,
  "metadata": {
    "colab": {
      "provenance": []
    },
    "kernelspec": {
      "name": "ir",
      "display_name": "R"
    },
    "language_info": {
      "name": "R"
    }
  },
  "cells": [
    {
      "cell_type": "markdown",
      "source": [
        "**Nombre:** Ricardo Antonio Peña Figueroa"
      ],
      "metadata": {
        "id": "pQYrD9eRxa1C"
      }
    },
    {
      "cell_type": "markdown",
      "source": [
        "\n",
        "\n",
        "---\n",
        "\n"
      ],
      "metadata": {
        "id": "tHgrpYwUxe_t"
      }
    },
    {
      "cell_type": "markdown",
      "source": [
        "# Descripción del Dataset"
      ],
      "metadata": {
        "id": "lToU6wX4xln2"
      }
    },
    {
      "cell_type": "markdown",
      "source": [
        "El siguiente conjunto de datos proporciona información detallada sobre pedidos minoristas, incluidos el rendimiento de las ventas, los detalles de los clientes y la logística de los envíos.\n",
        "\n"
      ],
      "metadata": {
        "id": "hsLARV4Gxp62"
      }
    },
    {
      "cell_type": "code",
      "source": [
        "#Instalación de paquetes\n",
        "install.packages(\"dlookr\")\n",
        "install.packages(\"dplyr\")\n"
      ],
      "metadata": {
        "colab": {
          "base_uri": "https://localhost:8080/"
        },
        "id": "4uSDKwNL33Rv",
        "outputId": "a458da22-a1d8-40f4-c9ad-e89042c57cdb"
      },
      "execution_count": 38,
      "outputs": [
        {
          "output_type": "stream",
          "name": "stderr",
          "text": [
            "Installing package into ‘/usr/local/lib/R/site-library’\n",
            "(as ‘lib’ is unspecified)\n",
            "\n",
            "also installing the dependencies ‘gdtools’, ‘hrbrthemes’\n",
            "\n",
            "\n",
            "Warning message in install.packages(\"dlookr\"):\n",
            "“installation of package ‘gdtools’ had non-zero exit status”\n",
            "Warning message in install.packages(\"dlookr\"):\n",
            "“installation of package ‘hrbrthemes’ had non-zero exit status”\n",
            "Warning message in install.packages(\"dlookr\"):\n",
            "“installation of package ‘dlookr’ had non-zero exit status”\n",
            "Installing package into ‘/usr/local/lib/R/site-library’\n",
            "(as ‘lib’ is unspecified)\n",
            "\n"
          ]
        }
      ]
    },
    {
      "cell_type": "code",
      "source": [
        "#Cargar libreria\n",
        "library(readxl)\n"
      ],
      "metadata": {
        "id": "lPtmUAhZxq0I"
      },
      "execution_count": 28,
      "outputs": []
    },
    {
      "cell_type": "code",
      "source": [
        "#Carga de dataset en R\n",
        "df = read_excel('/content/retail-supply-chain-sales.xlsx')"
      ],
      "metadata": {
        "id": "OslnQg77yJrA"
      },
      "execution_count": 29,
      "outputs": []
    },
    {
      "cell_type": "code",
      "source": [
        "# Primeras filas\n",
        "head(df, 5)"
      ],
      "metadata": {
        "colab": {
          "base_uri": "https://localhost:8080/",
          "height": 674
        },
        "id": "o4nUsFZC6Ip1",
        "outputId": "0df7e5b7-7f48-4f70-90c0-0ab62ccb6f9e"
      },
      "execution_count": 30,
      "outputs": [
        {
          "output_type": "display_data",
          "data": {
            "text/html": [
              "<table class=\"dataframe\">\n",
              "<caption>A tibble: 5 × 23</caption>\n",
              "<thead>\n",
              "\t<tr><th scope=col>Row ID</th><th scope=col>Order ID</th><th scope=col>Order Date</th><th scope=col>Ship Date</th><th scope=col>Ship Mode</th><th scope=col>Customer ID</th><th scope=col>Customer Name</th><th scope=col>Segment</th><th scope=col>Country</th><th scope=col>City</th><th scope=col>⋯</th><th scope=col>Retail Sales People</th><th scope=col>Product ID</th><th scope=col>Category</th><th scope=col>Sub-Category</th><th scope=col>Product Name</th><th scope=col>Returned</th><th scope=col>Sales</th><th scope=col>Quantity</th><th scope=col>Discount</th><th scope=col>Profit</th></tr>\n",
              "\t<tr><th scope=col>&lt;dbl&gt;</th><th scope=col>&lt;chr&gt;</th><th scope=col>&lt;dttm&gt;</th><th scope=col>&lt;dttm&gt;</th><th scope=col>&lt;chr&gt;</th><th scope=col>&lt;chr&gt;</th><th scope=col>&lt;chr&gt;</th><th scope=col>&lt;chr&gt;</th><th scope=col>&lt;chr&gt;</th><th scope=col>&lt;chr&gt;</th><th scope=col>⋯</th><th scope=col>&lt;chr&gt;</th><th scope=col>&lt;chr&gt;</th><th scope=col>&lt;chr&gt;</th><th scope=col>&lt;chr&gt;</th><th scope=col>&lt;chr&gt;</th><th scope=col>&lt;chr&gt;</th><th scope=col>&lt;dbl&gt;</th><th scope=col>&lt;dbl&gt;</th><th scope=col>&lt;dbl&gt;</th><th scope=col>&lt;dbl&gt;</th></tr>\n",
              "</thead>\n",
              "<tbody>\n",
              "\t<tr><td>1</td><td>CA-2016-152156</td><td>2016-08-11</td><td>2016-11-11</td><td>Second Class  </td><td>CG-12520</td><td>Claire Gute    </td><td>Consumer </td><td>United States</td><td>Henderson      </td><td>⋯</td><td>Cassandra Brandow</td><td>FUR-BO-10001798</td><td>Furniture      </td><td>Bookcases</td><td>Bush Somerset Collection Bookcase                          </td><td>Not</td><td>261.9600</td><td>2</td><td>0.00</td><td>  41.9136</td></tr>\n",
              "\t<tr><td>2</td><td>CA-2016-152156</td><td>2016-08-11</td><td>2016-11-11</td><td>Second Class  </td><td>CG-12520</td><td>Claire Gute    </td><td>Consumer </td><td>United States</td><td>Henderson      </td><td>⋯</td><td>Cassandra Brandow</td><td>FUR-CH-10000454</td><td>Furniture      </td><td>Chairs   </td><td>Hon Deluxe Fabric Upholstered Stacking Chairs, Rounded Back</td><td>Not</td><td>731.9400</td><td>3</td><td>0.00</td><td> 219.5820</td></tr>\n",
              "\t<tr><td>3</td><td>CA-2016-138688</td><td>2016-12-06</td><td>2016-12-06</td><td>Second Class  </td><td>DV-13045</td><td>Darrin Van Huff</td><td>Corporate</td><td>United States</td><td>Los Angeles    </td><td>⋯</td><td>Anna Andreadi    </td><td>OFF-LA-10000240</td><td>Office Supplies</td><td>Labels   </td><td>Self-Adhesive Address Labels for Typewriters by Universal  </td><td>Not</td><td> 14.6200</td><td>2</td><td>0.00</td><td>   6.8714</td></tr>\n",
              "\t<tr><td>4</td><td>US-2015-108966</td><td>2015-11-10</td><td>2015-11-10</td><td>Standard Class</td><td>SO-20335</td><td>Sean O'Donnell </td><td>Consumer </td><td>United States</td><td>Fort Lauderdale</td><td>⋯</td><td>Cassandra Brandow</td><td>FUR-TA-10000577</td><td>Furniture      </td><td>Tables   </td><td>Bretford CR4500 Series Slim Rectangular Table              </td><td>Not</td><td>957.5775</td><td>5</td><td>0.45</td><td>-383.0310</td></tr>\n",
              "\t<tr><td>5</td><td>US-2015-108966</td><td>2015-11-10</td><td>2015-11-10</td><td>Standard Class</td><td>SO-20335</td><td>Sean O'Donnell </td><td>Consumer </td><td>United States</td><td>Fort Lauderdale</td><td>⋯</td><td>Cassandra Brandow</td><td>OFF-ST-10000760</td><td>Office Supplies</td><td>Storage  </td><td>Eldon Fold 'N Roll Cart System                             </td><td>Not</td><td> 22.3680</td><td>2</td><td>0.20</td><td>   2.5164</td></tr>\n",
              "</tbody>\n",
              "</table>\n"
            ],
            "text/markdown": "\nA tibble: 5 × 23\n\n| Row ID &lt;dbl&gt; | Order ID &lt;chr&gt; | Order Date &lt;dttm&gt; | Ship Date &lt;dttm&gt; | Ship Mode &lt;chr&gt; | Customer ID &lt;chr&gt; | Customer Name &lt;chr&gt; | Segment &lt;chr&gt; | Country &lt;chr&gt; | City &lt;chr&gt; | ⋯ ⋯ | Retail Sales People &lt;chr&gt; | Product ID &lt;chr&gt; | Category &lt;chr&gt; | Sub-Category &lt;chr&gt; | Product Name &lt;chr&gt; | Returned &lt;chr&gt; | Sales &lt;dbl&gt; | Quantity &lt;dbl&gt; | Discount &lt;dbl&gt; | Profit &lt;dbl&gt; |\n|---|---|---|---|---|---|---|---|---|---|---|---|---|---|---|---|---|---|---|---|---|\n| 1 | CA-2016-152156 | 2016-08-11 | 2016-11-11 | Second Class   | CG-12520 | Claire Gute     | Consumer  | United States | Henderson       | ⋯ | Cassandra Brandow | FUR-BO-10001798 | Furniture       | Bookcases | Bush Somerset Collection Bookcase                           | Not | 261.9600 | 2 | 0.00 |   41.9136 |\n| 2 | CA-2016-152156 | 2016-08-11 | 2016-11-11 | Second Class   | CG-12520 | Claire Gute     | Consumer  | United States | Henderson       | ⋯ | Cassandra Brandow | FUR-CH-10000454 | Furniture       | Chairs    | Hon Deluxe Fabric Upholstered Stacking Chairs, Rounded Back | Not | 731.9400 | 3 | 0.00 |  219.5820 |\n| 3 | CA-2016-138688 | 2016-12-06 | 2016-12-06 | Second Class   | DV-13045 | Darrin Van Huff | Corporate | United States | Los Angeles     | ⋯ | Anna Andreadi     | OFF-LA-10000240 | Office Supplies | Labels    | Self-Adhesive Address Labels for Typewriters by Universal   | Not |  14.6200 | 2 | 0.00 |    6.8714 |\n| 4 | US-2015-108966 | 2015-11-10 | 2015-11-10 | Standard Class | SO-20335 | Sean O'Donnell  | Consumer  | United States | Fort Lauderdale | ⋯ | Cassandra Brandow | FUR-TA-10000577 | Furniture       | Tables    | Bretford CR4500 Series Slim Rectangular Table               | Not | 957.5775 | 5 | 0.45 | -383.0310 |\n| 5 | US-2015-108966 | 2015-11-10 | 2015-11-10 | Standard Class | SO-20335 | Sean O'Donnell  | Consumer  | United States | Fort Lauderdale | ⋯ | Cassandra Brandow | OFF-ST-10000760 | Office Supplies | Storage   | Eldon Fold 'N Roll Cart System                              | Not |  22.3680 | 2 | 0.20 |    2.5164 |\n\n",
            "text/latex": "A tibble: 5 × 23\n\\begin{tabular}{lllllllllllllllllllll}\n Row ID & Order ID & Order Date & Ship Date & Ship Mode & Customer ID & Customer Name & Segment & Country & City & ⋯ & Retail Sales People & Product ID & Category & Sub-Category & Product Name & Returned & Sales & Quantity & Discount & Profit\\\\\n <dbl> & <chr> & <dttm> & <dttm> & <chr> & <chr> & <chr> & <chr> & <chr> & <chr> & ⋯ & <chr> & <chr> & <chr> & <chr> & <chr> & <chr> & <dbl> & <dbl> & <dbl> & <dbl>\\\\\n\\hline\n\t 1 & CA-2016-152156 & 2016-08-11 & 2016-11-11 & Second Class   & CG-12520 & Claire Gute     & Consumer  & United States & Henderson       & ⋯ & Cassandra Brandow & FUR-BO-10001798 & Furniture       & Bookcases & Bush Somerset Collection Bookcase                           & Not & 261.9600 & 2 & 0.00 &   41.9136\\\\\n\t 2 & CA-2016-152156 & 2016-08-11 & 2016-11-11 & Second Class   & CG-12520 & Claire Gute     & Consumer  & United States & Henderson       & ⋯ & Cassandra Brandow & FUR-CH-10000454 & Furniture       & Chairs    & Hon Deluxe Fabric Upholstered Stacking Chairs, Rounded Back & Not & 731.9400 & 3 & 0.00 &  219.5820\\\\\n\t 3 & CA-2016-138688 & 2016-12-06 & 2016-12-06 & Second Class   & DV-13045 & Darrin Van Huff & Corporate & United States & Los Angeles     & ⋯ & Anna Andreadi     & OFF-LA-10000240 & Office Supplies & Labels    & Self-Adhesive Address Labels for Typewriters by Universal   & Not &  14.6200 & 2 & 0.00 &    6.8714\\\\\n\t 4 & US-2015-108966 & 2015-11-10 & 2015-11-10 & Standard Class & SO-20335 & Sean O'Donnell  & Consumer  & United States & Fort Lauderdale & ⋯ & Cassandra Brandow & FUR-TA-10000577 & Furniture       & Tables    & Bretford CR4500 Series Slim Rectangular Table               & Not & 957.5775 & 5 & 0.45 & -383.0310\\\\\n\t 5 & US-2015-108966 & 2015-11-10 & 2015-11-10 & Standard Class & SO-20335 & Sean O'Donnell  & Consumer  & United States & Fort Lauderdale & ⋯ & Cassandra Brandow & OFF-ST-10000760 & Office Supplies & Storage   & Eldon Fold 'N Roll Cart System                              & Not &  22.3680 & 2 & 0.20 &    2.5164\\\\\n\\end{tabular}\n",
            "text/plain": [
              "  Row ID Order ID       Order Date Ship Date  Ship Mode      Customer ID\n",
              "1 1      CA-2016-152156 2016-08-11 2016-11-11 Second Class   CG-12520   \n",
              "2 2      CA-2016-152156 2016-08-11 2016-11-11 Second Class   CG-12520   \n",
              "3 3      CA-2016-138688 2016-12-06 2016-12-06 Second Class   DV-13045   \n",
              "4 4      US-2015-108966 2015-11-10 2015-11-10 Standard Class SO-20335   \n",
              "5 5      US-2015-108966 2015-11-10 2015-11-10 Standard Class SO-20335   \n",
              "  Customer Name   Segment   Country       City            ⋯ Retail Sales People\n",
              "1 Claire Gute     Consumer  United States Henderson       ⋯ Cassandra Brandow  \n",
              "2 Claire Gute     Consumer  United States Henderson       ⋯ Cassandra Brandow  \n",
              "3 Darrin Van Huff Corporate United States Los Angeles     ⋯ Anna Andreadi      \n",
              "4 Sean O'Donnell  Consumer  United States Fort Lauderdale ⋯ Cassandra Brandow  \n",
              "5 Sean O'Donnell  Consumer  United States Fort Lauderdale ⋯ Cassandra Brandow  \n",
              "  Product ID      Category        Sub-Category\n",
              "1 FUR-BO-10001798 Furniture       Bookcases   \n",
              "2 FUR-CH-10000454 Furniture       Chairs      \n",
              "3 OFF-LA-10000240 Office Supplies Labels      \n",
              "4 FUR-TA-10000577 Furniture       Tables      \n",
              "5 OFF-ST-10000760 Office Supplies Storage     \n",
              "  Product Name                                                Returned Sales   \n",
              "1 Bush Somerset Collection Bookcase                           Not      261.9600\n",
              "2 Hon Deluxe Fabric Upholstered Stacking Chairs, Rounded Back Not      731.9400\n",
              "3 Self-Adhesive Address Labels for Typewriters by Universal   Not       14.6200\n",
              "4 Bretford CR4500 Series Slim Rectangular Table               Not      957.5775\n",
              "5 Eldon Fold 'N Roll Cart System                              Not       22.3680\n",
              "  Quantity Discount Profit   \n",
              "1 2        0.00       41.9136\n",
              "2 3        0.00      219.5820\n",
              "3 2        0.00        6.8714\n",
              "4 5        0.45     -383.0310\n",
              "5 2        0.20        2.5164"
            ]
          },
          "metadata": {}
        }
      ]
    },
    {
      "cell_type": "code",
      "source": [
        "#Información general del dataset\n",
        "str(df)"
      ],
      "metadata": {
        "colab": {
          "base_uri": "https://localhost:8080/"
        },
        "id": "AhYJcdYO6hV1",
        "outputId": "a53c9ed1-1d89-4b95-d31f-4398280b7816"
      },
      "execution_count": 23,
      "outputs": [
        {
          "output_type": "stream",
          "name": "stdout",
          "text": [
            "tibble [9,994 × 23] (S3: tbl_df/tbl/data.frame)\n",
            " $ Row ID             : num [1:9994] 1 2 3 4 5 6 7 8 9 10 ...\n",
            " $ Order ID           : chr [1:9994] \"CA-2016-152156\" \"CA-2016-152156\" \"CA-2016-138688\" \"US-2015-108966\" ...\n",
            " $ Order Date         : POSIXct[1:9994], format: \"2016-08-11\" \"2016-08-11\" ...\n",
            " $ Ship Date          : POSIXct[1:9994], format: \"2016-11-11\" \"2016-11-11\" ...\n",
            " $ Ship Mode          : chr [1:9994] \"Second Class\" \"Second Class\" \"Second Class\" \"Standard Class\" ...\n",
            " $ Customer ID        : chr [1:9994] \"CG-12520\" \"CG-12520\" \"DV-13045\" \"SO-20335\" ...\n",
            " $ Customer Name      : chr [1:9994] \"Claire Gute\" \"Claire Gute\" \"Darrin Van Huff\" \"Sean O'Donnell\" ...\n",
            " $ Segment            : chr [1:9994] \"Consumer\" \"Consumer\" \"Corporate\" \"Consumer\" ...\n",
            " $ Country            : chr [1:9994] \"United States\" \"United States\" \"United States\" \"United States\" ...\n",
            " $ City               : chr [1:9994] \"Henderson\" \"Henderson\" \"Los Angeles\" \"Fort Lauderdale\" ...\n",
            " $ State              : chr [1:9994] \"Kentucky\" \"Kentucky\" \"California\" \"Florida\" ...\n",
            " $ Postal Code        : num [1:9994] 42420 42420 90036 33311 33311 ...\n",
            " $ Region             : chr [1:9994] \"South\" \"South\" \"West\" \"South\" ...\n",
            " $ Retail Sales People: chr [1:9994] \"Cassandra Brandow\" \"Cassandra Brandow\" \"Anna Andreadi\" \"Cassandra Brandow\" ...\n",
            " $ Product ID         : chr [1:9994] \"FUR-BO-10001798\" \"FUR-CH-10000454\" \"OFF-LA-10000240\" \"FUR-TA-10000577\" ...\n",
            " $ Category           : chr [1:9994] \"Furniture\" \"Furniture\" \"Office Supplies\" \"Furniture\" ...\n",
            " $ Sub-Category       : chr [1:9994] \"Bookcases\" \"Chairs\" \"Labels\" \"Tables\" ...\n",
            " $ Product Name       : chr [1:9994] \"Bush Somerset Collection Bookcase\" \"Hon Deluxe Fabric Upholstered Stacking Chairs, Rounded Back\" \"Self-Adhesive Address Labels for Typewriters by Universal\" \"Bretford CR4500 Series Slim Rectangular Table\" ...\n",
            " $ Returned           : chr [1:9994] \"Not\" \"Not\" \"Not\" \"Not\" ...\n",
            " $ Sales              : num [1:9994] 262 731.9 14.6 957.6 22.4 ...\n",
            " $ Quantity           : num [1:9994] 2 3 2 5 2 7 4 6 3 5 ...\n",
            " $ Discount           : num [1:9994] 0 0 0 0.45 0.2 0 0 0.2 0.2 0 ...\n",
            " $ Profit             : num [1:9994] 41.91 219.58 6.87 -383.03 2.52 ...\n"
          ]
        }
      ]
    },
    {
      "cell_type": "code",
      "source": [
        "#Descripción del dataset\n",
        "summary(df)"
      ],
      "metadata": {
        "colab": {
          "base_uri": "https://localhost:8080/",
          "height": 892
        },
        "id": "qMK6M-uu642O",
        "outputId": "bd2e76a7-4977-49bd-d62f-69cb71f6358f"
      },
      "execution_count": 26,
      "outputs": [
        {
          "output_type": "display_data",
          "data": {
            "text/plain": [
              "     Row ID       Order ID           Order Date                    \n",
              " Min.   :   1   Length:9994        Min.   :2014-01-02 00:00:00.00  \n",
              " 1st Qu.:2499   Class :character   1st Qu.:2015-05-01 00:00:00.00  \n",
              " Median :4998   Mode  :character   Median :2016-05-30 00:00:00.00  \n",
              " Mean   :4998                      Mean   :2016-04-11 07:17:44.07  \n",
              " 3rd Qu.:7496                      3rd Qu.:2017-04-09 00:00:00.00  \n",
              " Max.   :9994                      Max.   :2017-12-30 00:00:00.00  \n",
              "   Ship Date                       Ship Mode         Customer ID       \n",
              " Min.   :2014-01-15 00:00:00.00   Length:9994        Length:9994       \n",
              " 1st Qu.:2015-06-20 00:00:00.00   Class :character   Class :character  \n",
              " Median :2016-07-21 00:00:00.00   Mode  :character   Mode  :character  \n",
              " Mean   :2016-05-15 21:54:47.32                                        \n",
              " 3rd Qu.:2017-06-02 00:00:00.00                                        \n",
              " Max.   :2018-05-01 00:00:00.00                                        \n",
              " Customer Name        Segment            Country              City          \n",
              " Length:9994        Length:9994        Length:9994        Length:9994       \n",
              " Class :character   Class :character   Class :character   Class :character  \n",
              " Mode  :character   Mode  :character   Mode  :character   Mode  :character  \n",
              "                                                                            \n",
              "                                                                            \n",
              "                                                                            \n",
              "    State            Postal Code       Region          Retail Sales People\n",
              " Length:9994        Min.   : 1040   Length:9994        Length:9994        \n",
              " Class :character   1st Qu.:23223   Class :character   Class :character   \n",
              " Mode  :character   Median :56430   Mode  :character   Mode  :character   \n",
              "                    Mean   :55190                                         \n",
              "                    3rd Qu.:90008                                         \n",
              "                    Max.   :99301                                         \n",
              "  Product ID          Category         Sub-Category       Product Name      \n",
              " Length:9994        Length:9994        Length:9994        Length:9994       \n",
              " Class :character   Class :character   Class :character   Class :character  \n",
              " Mode  :character   Mode  :character   Mode  :character   Mode  :character  \n",
              "                                                                            \n",
              "                                                                            \n",
              "                                                                            \n",
              "   Returned             Sales              Quantity        Discount     \n",
              " Length:9994        Min.   :    0.444   Min.   : 1.00   Min.   :0.0000  \n",
              " Class :character   1st Qu.:   17.280   1st Qu.: 2.00   1st Qu.:0.0000  \n",
              " Mode  :character   Median :   54.490   Median : 3.00   Median :0.2000  \n",
              "                    Mean   :  229.858   Mean   : 3.79   Mean   :0.1562  \n",
              "                    3rd Qu.:  209.940   3rd Qu.: 5.00   3rd Qu.:0.2000  \n",
              "                    Max.   :22638.480   Max.   :14.00   Max.   :0.8000  \n",
              "     Profit         \n",
              " Min.   :-6599.978  \n",
              " 1st Qu.:    1.729  \n",
              " Median :    8.666  \n",
              " Mean   :   28.657  \n",
              " 3rd Qu.:   29.364  \n",
              " Max.   : 8399.976  "
            ]
          },
          "metadata": {}
        }
      ]
    },
    {
      "cell_type": "markdown",
      "source": [
        "# Reporte automatico EDA"
      ],
      "metadata": {
        "id": "uhrOaTaY7kBx"
      }
    },
    {
      "cell_type": "code",
      "source": [
        "library(dlookr)"
      ],
      "metadata": {
        "id": "FS6pIA6Z-VJy"
      },
      "execution_count": null,
      "outputs": []
    },
    {
      "cell_type": "code",
      "source": [
        "# Crear un informe EDA dinámico\n",
        "eda_web_report(\n",
        "  df,\n",
        "  target = \"Sales\",\n",
        "  output_file = \"reporte_eda_web_r.html\",\n",
        "  output_dir = getwd(),\n",
        "  title = \"Reporte EDA Interactivo\",\n",
        "  subtitle = \"Exploración Dinámica de Datos\",\n",
        "  theme = \"blue\"\n",
        ")"
      ],
      "metadata": {
        "id": "ofWchZEh-YD8"
      },
      "execution_count": 42,
      "outputs": []
    }
  ]
}